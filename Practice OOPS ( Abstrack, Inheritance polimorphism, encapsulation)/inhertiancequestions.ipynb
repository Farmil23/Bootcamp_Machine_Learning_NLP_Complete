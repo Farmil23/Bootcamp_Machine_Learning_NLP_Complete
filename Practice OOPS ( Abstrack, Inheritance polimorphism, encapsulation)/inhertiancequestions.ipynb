{
 "cells": [
  {
   "cell_type": "markdown",
   "metadata": {},
   "source": [
    "# Module: Inheritance Assignments\n",
    "## Lesson: Single and Multiple Inheritance\n"
   ]
  },
  {
   "cell_type": "markdown",
   "id": "ccc67e6e",
   "metadata": {},
   "source": [
    "### Assignment 1: Single Inheritance Basic\n",
    "\n",
    "Create a base class named `Animal` with attributes `name` and `species`. Create a derived class named `Dog` that inherits from `Animal` and adds an attribute `breed`. Create an object of the `Dog` class and print its attributes."
   ]
  },
  {
   "cell_type": "code",
   "execution_count": 1,
   "metadata": {},
   "outputs": [
    {
     "name": "stdout",
     "output_type": "stream",
     "text": [
      "Name: Buddy, Species: Canine, Breed: Golden Retriever\n"
     ]
    }
   ],
   "source": [
    "class Animal:\n",
    "    def __init__(self, name, species):\n",
    "        self.name = name\n",
    "        self.species = species\n",
    "        \n",
    "class Dog(Animal):\n",
    "    def __init__(self, name, species, breed):\n",
    "        super().__init__(name, species)\n",
    "        self.breed = breed\n",
    "        \n",
    "# Test the classes\n",
    "dog = Dog(\"Buddy\", \"Canine\", \"Golden Retriever\")\n",
    "print(f\"Name: {dog.name}, Species: {dog.species}, Breed: {dog.breed}\")"
   ]
  },
  {
   "cell_type": "markdown",
   "id": "0677ec02",
   "metadata": {},
   "source": [
    "### Assignment 2: Method Overriding in Single Inheritance\n",
    "\n",
    "In the `Dog` class, override the `__str__` method to return a string representation of the object. Create an object of the class and print it."
   ]
  },
  {
   "cell_type": "code",
   "execution_count": 10,
   "id": "746e5feb",
   "metadata": {},
   "outputs": [
    {
     "name": "stdout",
     "output_type": "stream",
     "text": [
      "Buddy, Canine, Golden Retriever\n"
     ]
    }
   ],
   "source": [
    "class Dog(Animal):\n",
    "    def __init__(self, name, species, breed):\n",
    "        super().__init__(name, species)\n",
    "        self.breed = breed\n",
    "        \n",
    "    def __str__(self):\n",
    "        return f\"{self.name}, {self.species}, {self.breed}\"\n",
    "\n",
    "dog = Dog(\"Buddy\", \"Canine\", \"Golden Retriever\")\n",
    "print(dog)  # Output: Name: Buddy, Species: Canine, Breed: Golden Retriever"
   ]
  },
  {
   "cell_type": "markdown",
   "id": "635f5915",
   "metadata": {},
   "source": [
    "### Assignment 3: Single Inheritance with Additional Methods\n",
    "\n",
    "In the `Dog` class, add a method named `bark` that prints a barking sound. Create an object of the class and call the method.\n"
   ]
  },
  {
   "cell_type": "code",
   "execution_count": 11,
   "id": "b22acb09",
   "metadata": {},
   "outputs": [
    {
     "name": "stdout",
     "output_type": "stream",
     "text": [
      "Buddy, Canine, Golden Retriever, Woof! Woof!\n"
     ]
    }
   ],
   "source": [
    "class Dog(Animal):\n",
    "    def __init__(self, name, species, breed):\n",
    "        super().__init__(name, species)\n",
    "        self.breed = breed\n",
    "        \n",
    "    def bark(self):\n",
    "        return \"Woof! Woof!\"\n",
    "        \n",
    "    def __str__(self):\n",
    "        return f\"{self.name}, {self.species}, {self.breed}, {self.bark()}\"\n",
    "    \n",
    "dog = Dog(\"Buddy\", \"Canine\", \"Golden Retriever\")\n",
    "print(dog)  # Output: Name: Buddy, Species: Canine, Breed: Golden Retriever, Woof! Woof!"
   ]
  },
  {
   "cell_type": "markdown",
   "id": "b4e40e80",
   "metadata": {},
   "source": [
    "### Assignment 4: Multiple Inheritance Basic\n",
    "\n",
    "Create a base class named `Walker` with a method `walk` that prints a walking message. Create another base class named `Runner` with a method `run` that prints a running message. Create a derived class named `Athlete` that inherits from both `Walker` and `Runner`. Create an object of the `Athlete` class and call both methods.\n"
   ]
  },
  {
   "cell_type": "code",
   "execution_count": 22,
   "id": "dd3120da",
   "metadata": {},
   "outputs": [
    {
     "name": "stdout",
     "output_type": "stream",
     "text": [
      "othat athlete name is John and he is Walking... and Running...\n"
     ]
    }
   ],
   "source": [
    "# Base class \n",
    "class Walker:\n",
    "    def walk(self):\n",
    "        return \"Walking...\"\n",
    "\n",
    "# Base class\n",
    "class Runner:\n",
    "    def run(self):\n",
    "        return \"Running...\"\n",
    "    \n",
    "# Derived class\n",
    "class Athlete(Walker, Runner):\n",
    "    def __init__(self, name, gender=None):\n",
    "        self.name = name\n",
    "        self.gender = gender\n",
    "        if self.gender == \"male\":\n",
    "            self.gender = \"he\"\n",
    "        else:\n",
    "            self.gender = \"she\"\n",
    "        \n",
    "    def __str__(self):\n",
    "        return f\"Athlete: {self.name}\"\n",
    "    \n",
    "person = Athlete(\"John\", \"male\")\n",
    "print(f\"othat athlete name is {person.name} and {person.gender} is {person.walk()} and {person.run()}\")\n",
    "\n"
   ]
  },
  {
   "cell_type": "markdown",
   "id": "5418ad3d",
   "metadata": {},
   "source": [
    "\n",
    "### Assignment 5: Method Resolution Order (MRO) in Multiple Inheritance\n",
    "\n",
    "In the `Athlete` class, override the `walk` method to print a different message. Create an object of the class and call the `walk` method. Use the `super()` function to call the `walk` method of the `Walker` class.\n"
   ]
  },
  {
   "cell_type": "code",
   "execution_count": 28,
   "id": "c53a8b01",
   "metadata": {},
   "outputs": [
    {
     "name": "stdout",
     "output_type": "stream",
     "text": [
      "John is walking...\n",
      "that athlete name is John and he is Running...\n"
     ]
    }
   ],
   "source": [
    "class Athlete(Walker, Runner):\n",
    "    def __init__(self, name, gender=None):\n",
    "        self.name = name\n",
    "        self.gender = gender\n",
    "        if self.gender == \"male\":\n",
    "            self.gender = \"he\"\n",
    "        else:\n",
    "            self.gender = \"she\"\n",
    "    \n",
    "    def walk(self):\n",
    "        print(f\"{self.name} is walking...\")\n",
    "        super().walk()\n",
    "        \n",
    "    def __str__(self):\n",
    "        return f\"Athlete: {self.name}\"\n",
    "    \n",
    "person = Athlete(\"John\", \"male\")\n",
    "person.walk()\n",
    "print(f\"that athlete name is {person.name} and {person.gender} is {person.run()}\")"
   ]
  },
  {
   "cell_type": "markdown",
   "id": "0a73c50b",
   "metadata": {},
   "source": [
    "### Assignment 6: Multiple Inheritance with Additional Attributes\n",
    "\n",
    "In the `Athlete` class, add an attribute `training_hours` and a method `train` that prints the training hours. Create an object of the class and call the method.\n"
   ]
  },
  {
   "cell_type": "code",
   "execution_count": 34,
   "id": "6bd84998",
   "metadata": {},
   "outputs": [
    {
     "name": "stdout",
     "output_type": "stream",
     "text": [
      "John is walking...\n",
      "that athlete name is John and he is Running... and 2 hours of training\n"
     ]
    }
   ],
   "source": [
    "class Athlete(Walker, Runner):\n",
    "    def __init__(self, name, gender=None, training_hours=0):\n",
    "        self.name = name\n",
    "        self.gender = gender\n",
    "        self.training_hours = training_hours\n",
    "        \n",
    "        if self.gender == \"male\":\n",
    "            self.gender = \"he\"\n",
    "        else:\n",
    "            self.gender = \"she\"\n",
    "            \n",
    "    def train(self, hours):\n",
    "        self.training_hours += hours\n",
    "        return f\"{self.name} has trained for {self.training_hours} hours.\"\n",
    "    \n",
    "    def get_training_hours(self):\n",
    "        return self.training_hours\n",
    "    \n",
    "    def walk(self):\n",
    "        print(f\"{self.name} is walking...\")\n",
    "        super().walk()\n",
    "        \n",
    "    def __str__(self):\n",
    "        return f\"Athlete: {self.name}\"\n",
    "    \n",
    "person = Athlete(\"John\", \"male\", 0)\n",
    "person.walk()\n",
    "person.train(2)\n",
    "print(f\"that athlete name is {person.name} and {person.gender} is {person.run()} and {person.get_training_hours()} hours of training\")"
   ]
  },
  {
   "cell_type": "markdown",
   "id": "ecebf62b",
   "metadata": {},
   "source": [
    "### Assignment 7: Diamond Problem in Multiple Inheritance\n",
    "\n",
    "Create a class named `A` with a method `show` that prints a message. Create two derived classes `B` and `C` that inherit from `A` and override the `show` method. Create a class `D` that inherits from both `B` and `C`. Create an object of the `D` class and call the `show` method. Observe the method resolution order."
   ]
  },
  {
   "cell_type": "code",
   "execution_count": 42,
   "id": "62f2d0c9",
   "metadata": {},
   "outputs": [
    {
     "name": "stdout",
     "output_type": "stream",
     "text": [
      "Class C\n"
     ]
    }
   ],
   "source": [
    "class A:\n",
    "    def show(self):\n",
    "        print(\"Class A\")\n",
    "\n",
    "class B(A):\n",
    "    def show(self):\n",
    "        print(\"Class B\")\n",
    "    \n",
    "class C(A):\n",
    "    def show(self):\n",
    "        print(\"Class C\")\n",
    "        \n",
    "class D(C, B):\n",
    "    pass\n",
    "    \n",
    "d = D()\n",
    "d.show() # Output: Class B"
   ]
  },
  {
   "cell_type": "markdown",
   "id": "7171af90",
   "metadata": {},
   "source": [
    "### Assignment 8: Using `super()` in Single Inheritance\n",
    "\n",
    "Create a base class named `Shape` with an attribute `color`. Create a derived class named `Circle` that inherits from `Shape` and adds an attribute `radius`. Use the `super()` function to initialize the attributes. Create an object of the `Circle` class and print its attributes. "
   ]
  },
  {
   "cell_type": "code",
   "execution_count": 47,
   "id": "47f63c9b",
   "metadata": {},
   "outputs": [
    {
     "name": "stdout",
     "output_type": "stream",
     "text": [
      "Circle with color red and radius 5\n"
     ]
    }
   ],
   "source": [
    "class Shape:\n",
    "    def __init__(self, color):\n",
    "        self.color = color\n",
    "        \n",
    "class Circle(Shape):\n",
    "    def __init__(self, color, radius):\n",
    "        super().__init__(color)\n",
    "        self.radius = radius\n",
    "        \n",
    "    def __str__(self):\n",
    "        return f\"Circle with color {self.color} and radius {self.radius}\"\n",
    "\n",
    "circle = Circle(\"red\", 5)\n",
    "print(circle)  # Output: Circle with color red and radius 5"
   ]
  },
  {
   "cell_type": "markdown",
   "id": "5e6a395f",
   "metadata": {},
   "source": [
    "### Assignment 9: Using `super()` in Multiple Inheritance\n",
    "\n",
    "Create a class named `Person` with an attribute `name`. Create a class named `Employee` with an attribute `employee_id`. Create a derived class `Manager` that inherits from both `Person` and `Employee`. Use the `super()` function to initialize the attributes. Create an object of the `Manager` class and print its attributes."
   ]
  },
  {
   "cell_type": "code",
   "execution_count": 62,
   "id": "e41b9775",
   "metadata": {},
   "outputs": [
    {
     "name": "stdout",
     "output_type": "stream",
     "text": [
      "Manager: John, Employee ID: 123\n"
     ]
    }
   ],
   "source": [
    "class person:\n",
    "    def __init__(self, name):\n",
    "        self.name = name\n",
    "        \n",
    "class employee:\n",
    "    def __init__(self, employee_id):\n",
    "        self.employee_id = employee_id\n",
    "        \n",
    "class Manager(person, employee):\n",
    "    def __init__(self, name, employee_id):\n",
    "        person.__init__(self, name)\n",
    "        employee.__init__(self, employee_id)\n",
    "    \n",
    "    def __str__(self):\n",
    "        return f\"Manager: {self.name}, Employee ID: {self.employee_id}\"\n",
    "        \n",
    "manager = Manager(\"John\", 123)\n",
    "print(manager)  # Output: Manager: John, Employee ID: 123\n",
    "        "
   ]
  },
  {
   "cell_type": "markdown",
   "id": "366dd45a",
   "metadata": {},
   "source": [
    "\n",
    "### Assignment 10: Method Overriding and `super()`\n",
    "\n",
    "Create a class named `Vehicle` with a method `start` that prints a starting message. Create a derived class `Car` that overrides the `start` method to print a different message. Use the `super()` function to call the `start` method of the `Vehicle` class. Create an object of the `Car` class and call the `start` method."
   ]
  },
  {
   "cell_type": "code",
   "execution_count": 65,
   "id": "c9bf2c82",
   "metadata": {},
   "outputs": [
    {
     "name": "stdout",
     "output_type": "stream",
     "text": [
      "Car started\n"
     ]
    }
   ],
   "source": [
    "class Vehicle:\n",
    "    def __init__(self):\n",
    "        pass\n",
    "    \n",
    "    def start(self):\n",
    "        return \"Vehicle started\"\n",
    "    \n",
    "class Car(Vehicle):\n",
    "    def start(self):\n",
    "        return \"Car started\"\n",
    "        super().start()\n",
    "        \n",
    "car = Car()\n",
    "print(car.start())  # Output: Car started       "
   ]
  },
  {
   "cell_type": "markdown",
   "id": "15c13e3f",
   "metadata": {},
   "source": [
    "### Assignment 11: Multiple Inheritance with Different Methods\n",
    "\n",
    "Create a class named `Flyer` with a method `fly` that prints a flying message. Create a class named `Swimmer` with a method `swim` that prints a swimming message. Create a derived class `Superhero` that inherits from both `Flyer` and `Swimmer`. Create an object of the `Superhero` class and call both methods."
   ]
  },
  {
   "cell_type": "code",
   "execution_count": 68,
   "id": "27984f90",
   "metadata": {},
   "outputs": [
    {
     "name": "stdout",
     "output_type": "stream",
     "text": [
      "Superhero can Flying... and Swimming...\n"
     ]
    },
    {
     "data": {
      "text/plain": [
       "'Flying...'"
      ]
     },
     "execution_count": 68,
     "metadata": {},
     "output_type": "execute_result"
    }
   ],
   "source": [
    "class Flyer:\n",
    "    def fly(self):\n",
    "        return \"Flying...\"\n",
    "    \n",
    "class Swimmer:\n",
    "    def swim(self):\n",
    "        return \"Swimming...\"\n",
    "    \n",
    "class Superhero(Flyer, Swimmer):\n",
    "    def __str__(self):\n",
    "        return f\"Superhero can {self.fly()} and {self.swim()}\"\n",
    "    \n",
    "superhero = Superhero()\n",
    "print(superhero)  # Output: Superhero can Flying... and Swimming...\n",
    "\n",
    "superhero.fly()"
   ]
  },
  {
   "cell_type": "markdown",
   "id": "4ae2d516",
   "metadata": {},
   "source": [
    "\n",
    "\n",
    "### Assignment 12: Complex Multiple Inheritance\n",
    "\n",
    "Create a class named `Base1` with an attribute `a`. Create a class named `Base2` with an attribute `b`. Create a class named `Derived` that inherits from both `Base1` and `Base2` and adds an attribute `c`. Initialize all attributes using the `super()` function. Create an object of the `Derived` class and print its attributes."
   ]
  },
  {
   "cell_type": "code",
   "execution_count": 71,
   "id": "287ffb1a",
   "metadata": {},
   "outputs": [
    {
     "name": "stdout",
     "output_type": "stream",
     "text": [
      "1 2 3\n"
     ]
    }
   ],
   "source": [
    "class Base1():\n",
    "    def __init__(self, a):\n",
    "        self.a = a\n",
    "        \n",
    "class Base2():\n",
    "    def __init__(self, b):\n",
    "        self.b = b\n",
    "        \n",
    "class Base3(Base1, Base2):\n",
    "    def __init__(self, a , b, c):\n",
    "        Base1.__init__(self, a)\n",
    "        Base2.__init__(self, b)\n",
    "        self.c  = c\n",
    "        \n",
    "derivated = Base3(1, 2, 3)\n",
    "print(derivated.a, derivated.b, derivated.c)  # Output: 1 2 3\n",
    "\n"
   ]
  },
  {
   "cell_type": "markdown",
   "id": "e73372cc",
   "metadata": {},
   "source": [
    "### Assignment 13: Checking Instance Types with Inheritance\n",
    "\n",
    "Create a base class named `Animal` and a derived class named `Cat`. Create objects of both classes and use the `isinstance` function to check the instance types."
   ]
  },
  {
   "cell_type": "code",
   "execution_count": 73,
   "id": "51d22c3a",
   "metadata": {},
   "outputs": [
    {
     "name": "stdout",
     "output_type": "stream",
     "text": [
      "False\n",
      "True\n",
      "True\n",
      "False\n"
     ]
    }
   ],
   "source": [
    "class Animal:\n",
    "    pass\n",
    "\n",
    "class Cat(Animal):\n",
    "    pass\n",
    "\n",
    "animal = Animal()\n",
    "cat = Cat()\n",
    "print(isinstance(animal, Cat))     # Output: False\n",
    "print(isinstance(cat, Cat))        # Output: True\n",
    "print(isinstance(animal, Animal))  # Output: True\n",
    "print(isinstance(animal, Cat))     # Output: False\n"
   ]
  },
  {
   "cell_type": "markdown",
   "id": "aab9bd8b",
   "metadata": {},
   "source": [
    "\n",
    "### Assignment 14: Polymorphism with Inheritance\n",
    "\n",
    "Create a base class named `Bird` with a method `speak`. Create two derived classes `Parrot` and `Penguin` that override the `speak` method. Create a list of `Bird` objects and call the `speak` method on each object to demonstrate polymorphism."
   ]
  },
  {
   "cell_type": "code",
   "execution_count": 75,
   "id": "d46c34fb",
   "metadata": {},
   "outputs": [
    {
     "name": "stdout",
     "output_type": "stream",
     "text": [
      "Chirp!\n",
      "Squawk!\n",
      "Honk!\n"
     ]
    }
   ],
   "source": [
    "class Bird:\n",
    "    def speak(self):\n",
    "        return \"Chirp!\"\n",
    "\n",
    "class Parrot(Bird):\n",
    "    def speak(self):\n",
    "        return \"Squawk!\"\n",
    "class Penguin(Bird):\n",
    "    def speak(self):\n",
    "        return \"Honk!\"\n",
    "    \n",
    "birds = [Bird(), Parrot(), Penguin()]\n",
    "for bird in birds:\n",
    "    print(bird.speak())\n",
    "    "
   ]
  },
  {
   "cell_type": "markdown",
   "id": "9d593a02",
   "metadata": {},
   "source": [
    "### Assignment 15: Combining Single and Multiple Inheritance\n",
    "\n",
    "Create a base class named `Device` with an attribute `brand`. Create a derived class `Phone` that inherits from `Device` and adds an attribute `model`. Create another base class `Camera` with an attribute `resolution`. Create a derived class `Smartphone` that inherits from both `Phone` and `Camera`. Create an object of the `Smartphone` class and print its attributes."
   ]
  },
  {
   "cell_type": "code",
   "execution_count": null,
   "id": "3aac42a3",
   "metadata": {},
   "outputs": [
    {
     "name": "stdout",
     "output_type": "stream",
     "text": [
      "SmartPhone: Infinix, Note 122, 1080p\n"
     ]
    }
   ],
   "source": [
    "class Device():\n",
    "    def __init__ (self, brand):\n",
    "        self.brand = brand\n",
    "        \n",
    "class Phone(Device):\n",
    "    def __init__(self, brand, model):\n",
    "        super().__init__(brand)\n",
    "        self.model = model\n",
    "        \n",
    "class Camera:\n",
    "    def __init__(self, resolution):\n",
    "        self.resolution = resolution\n",
    "        \n",
    "class Smartphone(Phone, Camera):\n",
    "    def __init__ (self, brand, model, resolution):\n",
    "        Phone.__init__(self, brand, model)\n",
    "        Camera.__init__(self, resolution)\n",
    "        \n",
    "    def __str__(self):\n",
    "            return f\"SmartPhone: {self.brand}, {self.model}, {self.resolution}\"\n",
    "        \n",
    "smartphone = Smartphone(\"Infinix\", \"Note 12\", \"1080p\")\n",
    "print(smartphone)  # Output: SmartPhone: Infinix, Note 122, 1080p   "
   ]
  },
  {
   "cell_type": "code",
   "execution_count": null,
   "id": "89ae7221",
   "metadata": {},
   "outputs": [],
   "source": []
  }
 ],
 "metadata": {
  "kernelspec": {
   "display_name": "nama_env",
   "language": "python",
   "name": "python3"
  },
  "language_info": {
   "codemirror_mode": {
    "name": "ipython",
    "version": 3
   },
   "file_extension": ".py",
   "mimetype": "text/x-python",
   "name": "python",
   "nbconvert_exporter": "python",
   "pygments_lexer": "ipython3",
   "version": "3.10.16"
  }
 },
 "nbformat": 4,
 "nbformat_minor": 5
}
