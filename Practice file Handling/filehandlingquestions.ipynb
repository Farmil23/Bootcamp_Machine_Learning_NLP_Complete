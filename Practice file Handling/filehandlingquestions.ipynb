{
 "cells": [
  {
   "cell_type": "markdown",
   "id": "b2b79ce0",
   "metadata": {},
   "source": [
    "### Assignment 1: Reading a File\n",
    "\n",
    "Write a function that reads the contents of a file named `sample.txt` and prints each line."
   ]
  },
  {
   "cell_type": "code",
   "execution_count": 3,
   "metadata": {},
   "outputs": [
    {
     "name": "stdout",
     "output_type": "stream",
     "text": [
      "hello world\n",
      "apa saja\n",
      "diam ya\n"
     ]
    }
   ],
   "source": [
    "with open(\"sample.txt\", 'r') as file:\n",
    "    lines = file.readlines()\n",
    "    for line in lines:\n",
    "        print(line.strip())\n",
    "        # Process each line as needed\n",
    "    "
   ]
  },
  {
   "cell_type": "markdown",
   "id": "89acbfab",
   "metadata": {},
   "source": [
    "### Assignment 2: Writing to a File\n",
    "\n",
    "Write a function that writes a list of strings to a file named `output.txt`, with each string on a new line.\n"
   ]
  },
  {
   "cell_type": "code",
   "execution_count": 6,
   "id": "54f12c43",
   "metadata": {},
   "outputs": [],
   "source": [
    "def list_of_string(lines, filename):\n",
    "    with open(filename, 'w') as file:\n",
    "        for line in lines:\n",
    "            file.write(line + '\\n')\n",
    "            \n",
    "# Example usage\n",
    "lines = [\"Hello\", \"World\", \"This is a test\"]\n",
    "filename = \"output.txt\"\n",
    "list_of_string(lines, filename)"
   ]
  },
  {
   "cell_type": "markdown",
   "id": "2c35ac81",
   "metadata": {},
   "source": [
    "\n",
    "### Assignment 3: Copying a File\n",
    "\n",
    "Write a function that copies the contents of a file named `source.txt` to a new file named `destination.txt`.\n"
   ]
  },
  {
   "cell_type": "code",
   "execution_count": 13,
   "id": "59a9482c",
   "metadata": {},
   "outputs": [],
   "source": [
    "def copy_files(src, dst):\n",
    "    with open(src, 'r') as file:\n",
    "        with open(dst, 'w') as file_copy:\n",
    "            file_copy.write(file.read())\n",
    "            \n",
    "\n",
    "# Example usage\n",
    "src = \"sample.txt\"\n",
    "dst = \"copy_of_sample.txt\"\n",
    "copy_files(src, dst)"
   ]
  },
  {
   "cell_type": "markdown",
   "id": "d28c16bb",
   "metadata": {},
   "source": [
    "\n",
    "### Assignment 4: Appending to a File\n",
    "\n",
    "Write a function that appends a given string to the end of a file named `log.txt`."
   ]
  },
  {
   "cell_type": "code",
   "execution_count": 14,
   "id": "ee12cfaf",
   "metadata": {},
   "outputs": [],
   "source": [
    "def store_file_content(text, filename):\n",
    "    with open(filename, 'a') as file:\n",
    "        file.write(text + '\\n')\n",
    "        \n",
    "# Example usage\n",
    "text = \"This is a new line to be added.\"\n",
    "filename = \"output.txt\"\n",
    "store_file_content(text, filename)"
   ]
  },
  {
   "cell_type": "markdown",
   "id": "fc51606c",
   "metadata": {},
   "source": [
    "### Assignment 5: Counting Words in a File\n",
    "\n",
    "Write a function that reads the contents of a file named `document.txt` and returns the number of words in the file."
   ]
  },
  {
   "cell_type": "code",
   "execution_count": 17,
   "id": "5474454b",
   "metadata": {},
   "outputs": [
    {
     "name": "stdout",
     "output_type": "stream",
     "text": [
      "Word count: 14\n"
     ]
    }
   ],
   "source": [
    "def read_file(filename):\n",
    "    with open(filename, 'r') as file:\n",
    "        text = file.read()\n",
    "        words =  text.split()\n",
    "        word_count = len(words)\n",
    "        print(f\"Word count: {word_count}\")\n",
    "        \n",
    "# Example usage\n",
    "filename = \"output.txt\"\n",
    "read_file(filename)"
   ]
  },
  {
   "cell_type": "markdown",
   "id": "48ef67ca",
   "metadata": {},
   "source": [
    "### Assignment 6: Finding and Replacing Text\n",
    "\n",
    "Write a function that finds and replaces all occurrences of a given word in a file named `data.txt` with another word.\n"
   ]
  },
  {
   "cell_type": "code",
   "execution_count": 19,
   "id": "9a6cf0a3",
   "metadata": {},
   "outputs": [],
   "source": [
    "def find_and_replace(filename, old_word, new_word):\n",
    "    with open(filename, 'r') as file:\n",
    "        text = file.read()\n",
    "        new_text = text.replace(old_word, new_word)\n",
    "    \n",
    "    with open(filename, 'w') as file:\n",
    "        file.write(new_text)\n",
    "\n",
    "# Example usage\n",
    "filename = \"output.txt\"\n",
    "old_word = \"new\"\n",
    "new_word = \"old\"\n",
    "find_and_replace(filename, old_word, new_word)"
   ]
  },
  {
   "cell_type": "markdown",
   "id": "c1bb40d3",
   "metadata": {},
   "source": [
    "### Assignment 7: Reading a File in Reverse\n",
    "\n",
    "Write a function that reads the contents of a file named `reverse.txt` and prints each line in reverse order.\n"
   ]
  },
  {
   "cell_type": "code",
   "execution_count": 20,
   "id": "4c65b50e",
   "metadata": {},
   "outputs": [
    {
     "name": "stdout",
     "output_type": "stream",
     "text": [
      "This is a old line to be added.\n",
      "This is a test\n",
      "World\n",
      "Hello\n"
     ]
    }
   ],
   "source": [
    "def reversed_lines(filename):\n",
    "    with open(filename, 'r') as file:\n",
    "        lines = file.readlines()\n",
    "        for line in reversed(lines):\n",
    "            print(line.strip())\n",
    "\n",
    "# Example usage\n",
    "filename = \"output.txt\"\n",
    "reversed_lines(filename)"
   ]
  },
  {
   "cell_type": "markdown",
   "id": "f8d0233f",
   "metadata": {},
   "source": [
    "### Assignment 8: Counting Lines, Words, and Characters\n",
    "\n",
    "Write a function that reads the contents of a file named `stats.txt` and returns the number of lines, words, and characters in the file.\n"
   ]
  },
  {
   "cell_type": "code",
   "execution_count": 22,
   "id": "47c4d6d4",
   "metadata": {},
   "outputs": [
    {
     "name": "stdout",
     "output_type": "stream",
     "text": [
      "Lines: 4, Words: 14, Characters: 59\n"
     ]
    }
   ],
   "source": [
    "def count_lwc(filename):\n",
    "    with open(filename, 'r') as file:\n",
    "        lines = file.readlines()\n",
    "        words = sum(len(line.split()) for line in lines)\n",
    "        characters = sum(len(line) for line in lines)\n",
    "    return len(lines), words, characters\n",
    "\n",
    "# Example usage\n",
    "filename = \"output.txt\"\n",
    "line_count, word_count, char_count = count_lwc(filename)\n",
    "print(f\"Lines: {line_count}, Words: {word_count}, Characters: {char_count}\")"
   ]
  }
 ],
 "metadata": {
  "kernelspec": {
   "display_name": "nama_env",
   "language": "python",
   "name": "python3"
  },
  "language_info": {
   "codemirror_mode": {
    "name": "ipython",
    "version": 3
   },
   "file_extension": ".py",
   "mimetype": "text/x-python",
   "name": "python",
   "nbconvert_exporter": "python",
   "pygments_lexer": "ipython3",
   "version": "3.10.16"
  }
 },
 "nbformat": 4,
 "nbformat_minor": 5
}
