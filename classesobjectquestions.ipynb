{
 "cells": [
  {
   "cell_type": "markdown",
   "metadata": {},
   "source": []
  },
  {
   "cell_type": "markdown",
   "id": "985c8650",
   "metadata": {},
   "source": [
    "### Assignment 1: Basic Class and Object Creation\n",
    "\n",
    "Create a class named `Car` with attributes `make`, `model`, and `year`. Create an object of the class and print its attributes."
   ]
  },
  {
   "cell_type": "code",
   "execution_count": 2,
   "metadata": {},
   "outputs": [
    {
     "name": "stdout",
     "output_type": "stream",
     "text": [
      "Enter the car's make:\n",
      "Enter the car's model:\n",
      "Enter the car's year:\n",
      "Car make: BMW\n",
      "Car model: speed\n",
      "Car year: 1999\n"
     ]
    }
   ],
   "source": [
    "class car():\n",
    "    def __init__(self, make, model, year):\n",
    "        self.make = make\n",
    "        self.model = model\n",
    "        self.year = year\n",
    "        \n",
    "print(\"Enter the car's make:\")\n",
    "make = input()\n",
    "print(\"Enter the car's model:\")\n",
    "model = input()\n",
    "print(\"Enter the car's year:\")\n",
    "year = input()\n",
    "\n",
    "my_car = car(make, model, year)\n",
    "print(\"Car make:\", my_car.make)\n",
    "print(\"Car model:\", my_car.model)\n",
    "print(\"Car year:\", my_car.year)\n"
   ]
  },
  {
   "cell_type": "markdown",
   "id": "3c5c7cfb",
   "metadata": {},
   "source": [
    "### Assignment 2: Methods in Class\n",
    "\n",
    "Add a method named `start_engine` to the `Car` class that prints a message when the engine starts. Create an object of the class and call the method.\n"
   ]
  },
  {
   "cell_type": "code",
   "execution_count": 5,
   "id": "c354b892",
   "metadata": {},
   "outputs": [
    {
     "name": "stdout",
     "output_type": "stream",
     "text": [
      "Enter the car's make:\n",
      "Enter the car's model:\n",
      "Enter the car's year:\n",
      "Car make: w\n",
      "Car model: spe\n",
      "Car year: 200\n",
      "The engine is starting...\n",
      "None\n"
     ]
    }
   ],
   "source": [
    "class car():\n",
    "    def __init__(self, make, model, year):\n",
    "        self.make = make\n",
    "        self.model = model\n",
    "        self.year = year\n",
    "        \n",
    "    def start_engine(self):\n",
    "        print(\"The engine is starting...\")\n",
    "        \n",
    "print(\"Enter the car's make:\")\n",
    "make = input()\n",
    "print(\"Enter the car's model:\")\n",
    "model = input()\n",
    "print(\"Enter the car's year:\")\n",
    "year = input()\n",
    "\n",
    "my_car = car(make, model, year)\n",
    "\n",
    "print(\"Car make:\", my_car.make)\n",
    "print(\"Car model:\", my_car.model)\n",
    "print(\"Car year:\", my_car.year)\n",
    "print(my_car.start_engine())\n"
   ]
  },
  {
   "cell_type": "markdown",
   "id": "f879677c",
   "metadata": {},
   "source": [
    "### Assignment 3: Class with Constructor\n",
    "\n",
    "Create a class named `Student` with attributes `name` and `age`. Use a constructor to initialize these attributes. Create an object of the class and print its attributes."
   ]
  },
  {
   "cell_type": "code",
   "execution_count": 6,
   "id": "9cf6d0ce",
   "metadata": {},
   "outputs": [
    {
     "name": "stdout",
     "output_type": "stream",
     "text": [
      "Student name: Farhan\n",
      "Student age: 19\n"
     ]
    }
   ],
   "source": [
    "class student():\n",
    "    def __init__(self, name, age):\n",
    "        self.name = name\n",
    "        self.age = age\n",
    "        \n",
    "farhan = student(\"Farhan\", 19)\n",
    "print(\"Student name:\", farhan.name)\n",
    "print(\"Student age:\", farhan.age)"
   ]
  },
  {
   "cell_type": "markdown",
   "id": "f29e36bd",
   "metadata": {},
   "source": [
    "### Assignment 4: Class with Private Attributes\n",
    "\n",
    "Create a class named `BankAccount` with private attributes `account_number` and `balance`. Add methods to deposit and withdraw money, and to check the balance. Create an object of the class and perform some operations."
   ]
  },
  {
   "cell_type": "code",
   "execution_count": 18,
   "id": "6ea9b83c",
   "metadata": {},
   "outputs": [
    {
     "name": "stdout",
     "output_type": "stream",
     "text": [
      "Account number: 1234\n",
      "Account balance: 1000\n",
      "Deposited 1000. New balance is 2000.\n",
      "Current balance is 2000.\n",
      "None\n",
      "Withdrawn 500. New balance is 1500.\n",
      "Current balance is 1500.\n",
      "None\n"
     ]
    }
   ],
   "source": [
    "class BankAccount():\n",
    "    def __init__(self, account_number, balance):\n",
    "        self.account_number = int(account_number)\n",
    "        self.balance = balance\n",
    "    \n",
    "    def deposit(self, amount):\n",
    "        self.balance += amount\n",
    "        print(f\"Deposited {amount}. New balance is {self.balance}.\")\n",
    "    \n",
    "    def withdraw(self, amount):\n",
    "        if amount > self.balance:\n",
    "            print(\"Dana tidak ada\")\n",
    "        else:\n",
    "            self.balance -= amount\n",
    "            print(f\"Withdrawn {amount}. New balance is {self.balance}.\")\n",
    "    \n",
    "    def get_balance(self):\n",
    "        print(f\"Current balance is {self.balance}.\")\n",
    "        \n",
    "        \n",
    "account1 = BankAccount(\"1234\", 1000)\n",
    "print(\"Account number:\", account1.account_number)\n",
    "print(\"Account balance:\", account1.balance)\n",
    "\n",
    "account1.deposit(1000)\n",
    "print(account1.get_balance())\n",
    "\n",
    "account1.withdraw(500)\n",
    "print(account1.get_balance())\n",
    "\n"
   ]
  },
  {
   "cell_type": "markdown",
   "id": "e8698343",
   "metadata": {},
   "source": [
    "### Assignment 5: Class Inheritance\n",
    "\n",
    "Create a base class named `Person` with attributes `name` and `age`. Create a derived class named `Employee` that inherits from `Person` and adds an attribute `employee_id`. Create an object of the derived class and print its attributes.\n"
   ]
  },
  {
   "cell_type": "code",
   "execution_count": 20,
   "id": "5290c174",
   "metadata": {},
   "outputs": [
    {
     "name": "stdout",
     "output_type": "stream",
     "text": [
      "Employee name: John Doe\n",
      "Employee age: 30\n",
      "Employee ID: E12345\n"
     ]
    }
   ],
   "source": [
    "class person:\n",
    "    def __init__(self, name, age):\n",
    "        self.name = name\n",
    "        self.age = age\n",
    "    \n",
    "class employee(person):\n",
    "    def __init__ (self, name, age, employee_id):\n",
    "        super().__init__(name, age)\n",
    "        self.employee_id = employee_id\n",
    "\n",
    "# Create an instance of the employee class\n",
    "employee1 = employee(\"John Doe\", 30, \"E12345\")\n",
    "print(\"Employee name:\", employee1.name)\n",
    "print(\"Employee age:\", employee1.age)\n",
    "print(\"Employee ID:\", employee1.employee_id)\n"
   ]
  },
  {
   "cell_type": "markdown",
   "id": "8a7f2979",
   "metadata": {},
   "source": [
    "### Assignment 6: Method Overriding\n",
    "\n",
    "In the `Employee` class, override the `__str__` method to return a string representation of the object. Create an object of the class and print it."
   ]
  },
  {
   "cell_type": "code",
   "execution_count": 23,
   "id": "8f1aca16",
   "metadata": {},
   "outputs": [
    {
     "name": "stdout",
     "output_type": "stream",
     "text": [
      "Employee ID: E12345, Name: John Doe, Age: 30\n"
     ]
    }
   ],
   "source": [
    "class employee(person):\n",
    "    def __init__ (self, name, age, employee_id):\n",
    "        super().__init__(name, age)\n",
    "        self.employee_id = employee_id\n",
    "        \n",
    "    def __str__(self):\n",
    "        return f\"Employee ID: {self.employee_id}, Name: {self.name}, Age: {self.age}\"\n",
    "    \n",
    "# Create an instance of the employee class\n",
    "employee1 = employee(\"John Doe\", 30, \"E12345\")\n",
    "print(employee1)  # This will call the __str__ method and print the employee details"
   ]
  },
  {
   "cell_type": "markdown",
   "id": "be257e39",
   "metadata": {},
   "source": [
    "### Assignment 7: Class Composition\n",
    "\n",
    "Create a class named `Address` with attributes `street`, `city`, and `zipcode`. Create a class named `Person` that has an `Address` object as an attribute. Create an object of the `Person` class and print its address.\n"
   ]
  },
  {
   "cell_type": "code",
   "execution_count": 25,
   "id": "bd3d7788",
   "metadata": {},
   "outputs": [
    {
     "name": "stdout",
     "output_type": "stream",
     "text": [
      "Name: John Doe\n",
      "Age: 30\n",
      "Street: 123 Main St\n",
      "City: New York\n",
      "Zip Code: 10001\n"
     ]
    }
   ],
   "source": [
    "class Address:\n",
    "    def __init__ (self, street, city, zip_code):\n",
    "        self.street = street\n",
    "        self.city = city\n",
    "        self.zip_code = zip_code\n",
    "        \n",
    "class person:\n",
    "    def __init__(self, name, age, address):\n",
    "        self.name = name\n",
    "        self.age = age\n",
    "        self.address = address\n",
    "        \n",
    "person1 = person(\"John Doe\", 30, Address(\"123 Main St\", \"New York\", \"10001\"))\n",
    "print(\"Name:\", person1.name)\n",
    "print(\"Age:\", person1.age)\n",
    "print(\"Street:\", person1.address.street)\n",
    "print(\"City:\", person1.address.city)\n",
    "print(\"Zip Code:\", person1.address.zip_code)\n"
   ]
  },
  {
   "cell_type": "markdown",
   "id": "2b7897b3",
   "metadata": {},
   "source": [
    "### Assignment 8: Class with Class Variables\n",
    "\n",
    "Create a class named `Counter` with a class variable `count`. Each time an object is created, increment the count. Add a method to get the current count. Create multiple objects and print the count."
   ]
  },
  {
   "cell_type": "code",
   "execution_count": 28,
   "id": "57774625",
   "metadata": {},
   "outputs": [
    {
     "name": "stdout",
     "output_type": "stream",
     "text": [
      "Number of instances created: 4\n"
     ]
    }
   ],
   "source": [
    "class Counter:\n",
    "    count = 0\n",
    "    \n",
    "    def __init__(self):\n",
    "        Counter.count += 1\n",
    "    \n",
    "    @classmethod\n",
    "    def get_count(cls):\n",
    "        return cls.count\n",
    "    \n",
    "counter1 = Counter()\n",
    "counter2 = Counter()\n",
    "counter3 = Counter()\n",
    "counter4 = Counter()\n",
    "print(\"Number of instances created:\", Counter.get_count())  # Output: 4"
   ]
  },
  {
   "cell_type": "code",
   "execution_count": null,
   "id": "38a4f1b5",
   "metadata": {},
   "outputs": [],
   "source": []
  }
 ],
 "metadata": {
  "kernelspec": {
   "display_name": "nama_env",
   "language": "python",
   "name": "python3"
  },
  "language_info": {
   "codemirror_mode": {
    "name": "ipython",
    "version": 3
   },
   "file_extension": ".py",
   "mimetype": "text/x-python",
   "name": "python",
   "nbconvert_exporter": "python",
   "pygments_lexer": "ipython3",
   "version": "3.10.16"
  }
 },
 "nbformat": 4,
 "nbformat_minor": 5
}
